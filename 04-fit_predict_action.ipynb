{
 "cells": [
  {
   "cell_type": "code",
   "execution_count": 1,
   "id": "92a5f3f8",
   "metadata": {},
   "outputs": [],
   "source": [
    "import os\n",
    "from torch.utils.data import DataLoader,Dataset\n",
    "import torchvision.transforms as transforms\n",
    "from PIL import Image\n",
    "import numpy as np\n",
    "import pandas as pd\n",
    "\n",
    "import matplotlib.pyplot as plt\n",
    "import cv2\n",
    "#import albumentations as A\n",
    "import difflib\n",
    "from colorama import Style\n",
    "import random\n",
    "import tqdm\n",
    "\n",
    "from sklearn import preprocessing\n",
    "from sklearn.model_selection import train_test_split\n",
    "\n",
    "import shutil\n",
    "\n",
    "\n",
    "DEBUG = False\n",
    "target = 'action'"
   ]
  },
  {
   "cell_type": "code",
   "execution_count": 2,
   "id": "a9e80072",
   "metadata": {},
   "outputs": [
    {
     "data": {
      "text/html": [
       "<div>\n",
       "<style scoped>\n",
       "    .dataframe tbody tr th:only-of-type {\n",
       "        vertical-align: middle;\n",
       "    }\n",
       "\n",
       "    .dataframe tbody tr th {\n",
       "        vertical-align: top;\n",
       "    }\n",
       "\n",
       "    .dataframe thead th {\n",
       "        text-align: right;\n",
       "    }\n",
       "</style>\n",
       "<table border=\"1\" class=\"dataframe\">\n",
       "  <thead>\n",
       "    <tr style=\"text-align: right;\">\n",
       "      <th></th>\n",
       "      <th>id</th>\n",
       "      <th>date</th>\n",
       "      <th>employee</th>\n",
       "      <th>action</th>\n",
       "      <th>datex</th>\n",
       "      <th>image</th>\n",
       "    </tr>\n",
       "  </thead>\n",
       "  <tbody>\n",
       "    <tr>\n",
       "      <th>0</th>\n",
       "      <td>1256</td>\n",
       "      <td>2022-05-24 08:08:36</td>\n",
       "      <td>2</td>\n",
       "      <td>15.0</td>\n",
       "      <td>05-24-2022 08:08:36</td>\n",
       "      <td>05-24-2022_08_08_36.png</td>\n",
       "    </tr>\n",
       "    <tr>\n",
       "      <th>1</th>\n",
       "      <td>1257</td>\n",
       "      <td>2022-05-24 08:08:37</td>\n",
       "      <td>2</td>\n",
       "      <td>4.0</td>\n",
       "      <td>05-24-2022 08:08:37</td>\n",
       "      <td>05-24-2022_08_08_37.png</td>\n",
       "    </tr>\n",
       "    <tr>\n",
       "      <th>2</th>\n",
       "      <td>1258</td>\n",
       "      <td>2022-05-24 08:12:13</td>\n",
       "      <td>3</td>\n",
       "      <td>15.0</td>\n",
       "      <td>05-24-2022 08:12:13</td>\n",
       "      <td>05-24-2022_08_12_13.png</td>\n",
       "    </tr>\n",
       "    <tr>\n",
       "      <th>3</th>\n",
       "      <td>1259</td>\n",
       "      <td>2022-05-24 08:12:25</td>\n",
       "      <td>3</td>\n",
       "      <td>2.0</td>\n",
       "      <td>05-24-2022 08:12:25</td>\n",
       "      <td>05-24-2022_08_12_25.png</td>\n",
       "    </tr>\n",
       "    <tr>\n",
       "      <th>4</th>\n",
       "      <td>1260</td>\n",
       "      <td>2022-05-24 08:12:42</td>\n",
       "      <td>3</td>\n",
       "      <td>12.0</td>\n",
       "      <td>05-24-2022 08:12:42</td>\n",
       "      <td>05-24-2022_08_12_42.png</td>\n",
       "    </tr>\n",
       "  </tbody>\n",
       "</table>\n",
       "</div>"
      ],
      "text/plain": [
       "     id                 date  employee  action                datex  \\\n",
       "0  1256  2022-05-24 08:08:36         2    15.0  05-24-2022 08:08:36   \n",
       "1  1257  2022-05-24 08:08:37         2     4.0  05-24-2022 08:08:37   \n",
       "2  1258  2022-05-24 08:12:13         3    15.0  05-24-2022 08:12:13   \n",
       "3  1259  2022-05-24 08:12:25         3     2.0  05-24-2022 08:12:25   \n",
       "4  1260  2022-05-24 08:12:42         3    12.0  05-24-2022 08:12:42   \n",
       "\n",
       "                     image  \n",
       "0  05-24-2022_08_08_36.png  \n",
       "1  05-24-2022_08_08_37.png  \n",
       "2  05-24-2022_08_12_13.png  \n",
       "3  05-24-2022_08_12_25.png  \n",
       "4  05-24-2022_08_12_42.png  "
      ]
     },
     "execution_count": 2,
     "metadata": {},
     "output_type": "execute_result"
    }
   ],
   "source": [
    "dtrain = pd.read_csv('train_image1.csv')\n",
    "dtrain = dtrain[dtrain['image'] == dtrain['image']]\n",
    "\n",
    "dtrain.reset_index(drop = True, inplace = True)\n",
    "dtrain.head()"
   ]
  },
  {
   "cell_type": "code",
   "execution_count": 3,
   "id": "058ba5e5",
   "metadata": {},
   "outputs": [],
   "source": [
    "le = preprocessing.LabelEncoder()\n",
    "dtrain[target] = le.fit_transform(dtrain[target].values) "
   ]
  },
  {
   "cell_type": "code",
   "execution_count": 4,
   "id": "c0e09825",
   "metadata": {},
   "outputs": [
    {
     "name": "stdout",
     "output_type": "stream",
     "text": [
      "0 4\n",
      "1 6\n",
      "2 135\n",
      "3 57\n",
      "4 193\n",
      "5 184\n",
      "6 25\n",
      "7 8\n",
      "8 10\n",
      "9 2\n",
      "10 6\n",
      "11 137\n",
      "12 55\n",
      "13 195\n",
      "14 182\n",
      "15 23\n",
      "16 7\n",
      "17 12\n"
     ]
    }
   ],
   "source": [
    "for u in sorted(dtrain[target].unique()):\n",
    "    print(u, dtrain[dtrain[target] == u].shape[0])"
   ]
  },
  {
   "cell_type": "code",
   "execution_count": 5,
   "id": "6c870688",
   "metadata": {},
   "outputs": [],
   "source": [
    "try:\n",
    "    shutil.rmtree('./train_class/')\n",
    "except:\n",
    "    pass"
   ]
  },
  {
   "cell_type": "code",
   "execution_count": 6,
   "id": "94ff29e5",
   "metadata": {},
   "outputs": [
    {
     "name": "stdout",
     "output_type": "stream",
     "text": [
      "05-25-2022_01_11_34.png not found\n"
     ]
    }
   ],
   "source": [
    "classes = sorted(dtrain[target].unique())\n",
    "\n",
    "train_dir = './train_image/'\n",
    "class_dir = './train_class/'\n",
    "\n",
    "for c in classes:    \n",
    "    \n",
    "    train_images = dtrain['image'][dtrain[target] == c]\n",
    "    \n",
    "    c = str(c)\n",
    "    os.makedirs(os.path.join(class_dir, c), exist_ok = True)\n",
    "    \n",
    "    try:    \n",
    "        for image in train_images:\n",
    "            image_src = train_dir + image\n",
    "            image_dst = os.path.join(class_dir, c, image)\n",
    "            shutil.copyfile(image_src, image_dst)\n",
    "    except:\n",
    "        print(image, 'not found')\n",
    "        dtrain = dtrain[dtrain['image'] != image]\n",
    "        dtrain.reset_index(drop = True, inplace = True)"
   ]
  },
  {
   "cell_type": "code",
   "execution_count": null,
   "id": "6f5e469e",
   "metadata": {},
   "outputs": [],
   "source": []
  },
  {
   "cell_type": "code",
   "execution_count": 7,
   "id": "3023a4f3",
   "metadata": {},
   "outputs": [
    {
     "name": "stderr",
     "output_type": "stream",
     "text": [
      "2022-09-06 19:25:01.563750: I tensorflow/core/util/util.cc:169] oneDNN custom operations are on. You may see slightly different numerical results due to floating-point round-off errors from different computation orders. To turn them off, set the environment variable `TF_ENABLE_ONEDNN_OPTS=0`.\n"
     ]
    }
   ],
   "source": [
    "import os\n",
    "import PIL\n",
    "import tensorflow as tf\n",
    "\n",
    "os.environ['TF_CPP_MIN_LOG_LEVEL'] = '4'\n",
    "\n",
    "from tensorflow import keras\n",
    "from tensorflow.keras import layers\n",
    "from tensorflow.keras.models import Sequential"
   ]
  },
  {
   "cell_type": "code",
   "execution_count": 8,
   "id": "01393a7f",
   "metadata": {},
   "outputs": [],
   "source": [
    "batch_size = 8\n",
    "img_height = 512\n",
    "img_width  = 512"
   ]
  },
  {
   "cell_type": "code",
   "execution_count": 9,
   "id": "2ec57a6e",
   "metadata": {},
   "outputs": [
    {
     "name": "stdout",
     "output_type": "stream",
     "text": [
      "Found 1221 files belonging to 18 classes.\n",
      "Using 977 files for training.\n"
     ]
    },
    {
     "name": "stderr",
     "output_type": "stream",
     "text": [
      "2022-09-06 19:25:02.687602: I tensorflow/stream_executor/cuda/cuda_gpu_executor.cc:975] successful NUMA node read from SysFS had negative value (-1), but there must be at least one NUMA node, so returning NUMA node zero\n",
      "2022-09-06 19:25:02.689054: I tensorflow/stream_executor/cuda/cuda_gpu_executor.cc:975] successful NUMA node read from SysFS had negative value (-1), but there must be at least one NUMA node, so returning NUMA node zero\n",
      "2022-09-06 19:25:02.689590: I tensorflow/stream_executor/cuda/cuda_gpu_executor.cc:975] successful NUMA node read from SysFS had negative value (-1), but there must be at least one NUMA node, so returning NUMA node zero\n",
      "2022-09-06 19:25:02.690597: I tensorflow/core/platform/cpu_feature_guard.cc:193] This TensorFlow binary is optimized with oneAPI Deep Neural Network Library (oneDNN) to use the following CPU instructions in performance-critical operations:  AVX2 AVX_VNNI FMA\n",
      "To enable them in other operations, rebuild TensorFlow with the appropriate compiler flags.\n",
      "2022-09-06 19:25:02.691268: I tensorflow/stream_executor/cuda/cuda_gpu_executor.cc:975] successful NUMA node read from SysFS had negative value (-1), but there must be at least one NUMA node, so returning NUMA node zero\n",
      "2022-09-06 19:25:02.691733: I tensorflow/stream_executor/cuda/cuda_gpu_executor.cc:975] successful NUMA node read from SysFS had negative value (-1), but there must be at least one NUMA node, so returning NUMA node zero\n",
      "2022-09-06 19:25:02.692124: I tensorflow/stream_executor/cuda/cuda_gpu_executor.cc:975] successful NUMA node read from SysFS had negative value (-1), but there must be at least one NUMA node, so returning NUMA node zero\n",
      "2022-09-06 19:25:04.136849: I tensorflow/stream_executor/cuda/cuda_gpu_executor.cc:975] successful NUMA node read from SysFS had negative value (-1), but there must be at least one NUMA node, so returning NUMA node zero\n",
      "2022-09-06 19:25:04.137233: I tensorflow/stream_executor/cuda/cuda_gpu_executor.cc:975] successful NUMA node read from SysFS had negative value (-1), but there must be at least one NUMA node, so returning NUMA node zero\n",
      "2022-09-06 19:25:04.137441: I tensorflow/stream_executor/cuda/cuda_gpu_executor.cc:975] successful NUMA node read from SysFS had negative value (-1), but there must be at least one NUMA node, so returning NUMA node zero\n",
      "2022-09-06 19:25:04.137641: I tensorflow/core/common_runtime/gpu/gpu_device.cc:1532] Created device /job:localhost/replica:0/task:0/device:GPU:0 with 3761 MB memory:  -> device: 0, name: NVIDIA GeForce RTX 3060 Laptop GPU, pci bus id: 0000:01:00.0, compute capability: 8.6\n"
     ]
    }
   ],
   "source": [
    "\n",
    "train_ds = tf.keras.utils.image_dataset_from_directory(\n",
    "  class_dir,\n",
    "  validation_split = 0.2,\n",
    "  subset = \"training\",\n",
    "  seed = 0,\n",
    "  image_size = (img_height, img_width),\n",
    "  batch_size = batch_size\n",
    ")"
   ]
  },
  {
   "cell_type": "code",
   "execution_count": 10,
   "id": "14deb63d",
   "metadata": {},
   "outputs": [
    {
     "name": "stdout",
     "output_type": "stream",
     "text": [
      "Found 1221 files belonging to 18 classes.\n",
      "Using 244 files for validation.\n"
     ]
    }
   ],
   "source": [
    "val_ds = tf.keras.utils.image_dataset_from_directory(\n",
    "  class_dir,\n",
    "  validation_split = 0.2,\n",
    "  subset = \"validation\",\n",
    "  seed = 0,\n",
    "  image_size = (img_height, img_width),\n",
    "  batch_size = batch_size\n",
    ")"
   ]
  },
  {
   "cell_type": "code",
   "execution_count": 11,
   "id": "6614c205",
   "metadata": {},
   "outputs": [
    {
     "name": "stdout",
     "output_type": "stream",
     "text": [
      "['0', '1', '10', '11', '12', '13', '14', '15', '16', '17', '2', '3', '4', '5', '6', '7', '8', '9']\n"
     ]
    }
   ],
   "source": [
    "class_names = train_ds.class_names\n",
    "print(class_names)"
   ]
  },
  {
   "cell_type": "code",
   "execution_count": 12,
   "id": "9a899e45",
   "metadata": {},
   "outputs": [
    {
     "name": "stdout",
     "output_type": "stream",
     "text": [
      "(8, 512, 512, 3)\n",
      "(8,)\n"
     ]
    }
   ],
   "source": [
    "for image_batch, labels_batch in train_ds:\n",
    "    print(image_batch.shape)\n",
    "    print(labels_batch.shape)\n",
    "    break"
   ]
  },
  {
   "cell_type": "code",
   "execution_count": 13,
   "id": "879e7024",
   "metadata": {},
   "outputs": [],
   "source": [
    "AUTOTUNE = tf.data.AUTOTUNE\n",
    "\n",
    "train_ds = train_ds.cache().shuffle(1000).prefetch(buffer_size=AUTOTUNE)\n",
    "val_ds = val_ds.cache().prefetch(buffer_size = AUTOTUNE)"
   ]
  },
  {
   "cell_type": "code",
   "execution_count": 14,
   "id": "b7494401",
   "metadata": {},
   "outputs": [],
   "source": [
    "normalization_layer = layers.Rescaling(1./255)"
   ]
  },
  {
   "cell_type": "code",
   "execution_count": 15,
   "id": "20f42275",
   "metadata": {},
   "outputs": [
    {
     "name": "stdout",
     "output_type": "stream",
     "text": [
      "0.0 1.0\n"
     ]
    }
   ],
   "source": [
    "normalized_ds = train_ds.map(lambda x, y: (normalization_layer(x), y))\n",
    "image_batch, labels_batch = next(iter(normalized_ds))\n",
    "first_image = image_batch[0]\n",
    "# Notice the pixel values are now in `[0,1]`.\n",
    "print(np.min(first_image), np.max(first_image))"
   ]
  },
  {
   "cell_type": "code",
   "execution_count": 16,
   "id": "5564115d",
   "metadata": {},
   "outputs": [],
   "source": [
    "num_classes = len(class_names)\n",
    "\n",
    "model = Sequential([\n",
    "    layers.Rescaling(1./255),\n",
    "    layers.Conv2D(16, 3, padding='same', activation = 'relu'),\n",
    "    layers.MaxPooling2D(),\n",
    "    layers.Conv2D(32, 3, padding='same', activation = 'relu'),\n",
    "    layers.MaxPooling2D(),\n",
    "    layers.Conv2D(64, 3, padding='same', activation = 'relu'),\n",
    "    layers.MaxPooling2D(),\n",
    "    layers.Dropout(0.1),\n",
    "    layers.Flatten(),\n",
    "    layers.Dense(128, activation = 'relu'),\n",
    "    layers.Dense(num_classes)\n",
    "])"
   ]
  },
  {
   "cell_type": "code",
   "execution_count": 17,
   "id": "c090f090",
   "metadata": {},
   "outputs": [],
   "source": [
    "def scheduler(epoch, lr):\n",
    "    decay_rate = 0.1\n",
    "    decay_step = 10\n",
    "    \n",
    "    if epoch % decay_step == 0 and epoch:\n",
    "        return lr * decay_rate\n",
    "    \n",
    "    return lr\n",
    "\n",
    "\n",
    "EarlyStopping = tf.keras.callbacks.EarlyStopping(\n",
    "    monitor = \"val_loss\",\n",
    "    min_delta = 0,\n",
    "    patience  = 10,\n",
    "    verbose = 1,\n",
    "    mode = 'min',\n",
    "    baseline = None,\n",
    "    restore_best_weights = True,\n",
    ")\n",
    "\n",
    "weights_file = 'action-model.h5'\n",
    "ModelCheckpoint = tf.keras.callbacks.ModelCheckpoint(\n",
    "    weights_file,\n",
    "    monitor = 'val_loss',\n",
    "    mode = 'min',\n",
    "    save_best_only = True,\n",
    "    verbose = 1,\n",
    ")\n",
    "\n",
    "\n",
    "callback = [\n",
    "    EarlyStopping, \n",
    "    ModelCheckpoint, \n",
    "    tf.keras.callbacks.LearningRateScheduler(scheduler, verbose = 1)\n",
    "]"
   ]
  },
  {
   "cell_type": "code",
   "execution_count": 18,
   "id": "64241016",
   "metadata": {},
   "outputs": [],
   "source": [
    "opt = keras.optimizers.Adam(learning_rate = 0.001)\n",
    "\n",
    "model.compile(\n",
    "    optimizer = opt,\n",
    "    loss = tf.keras.losses.SparseCategoricalCrossentropy(from_logits=True),\n",
    "    metrics = ['accuracy'],    \n",
    ")"
   ]
  },
  {
   "cell_type": "code",
   "execution_count": 19,
   "id": "c319adc3",
   "metadata": {
    "scrolled": false
   },
   "outputs": [
    {
     "name": "stdout",
     "output_type": "stream",
     "text": [
      "\n",
      "Epoch 1: LearningRateScheduler setting learning rate to 0.0010000000474974513.\n",
      "Epoch 1/1250\n"
     ]
    },
    {
     "name": "stderr",
     "output_type": "stream",
     "text": [
      "2022-09-06 19:25:07.951968: I tensorflow/stream_executor/cuda/cuda_dnn.cc:384] Loaded cuDNN version 8302\n",
      "2022-09-06 19:25:09.539881: W tensorflow/stream_executor/gpu/asm_compiler.cc:111] *** WARNING *** You are using ptxas 10.1.243, which is older than 11.1. ptxas before 11.1 is known to miscompile XLA code, leading to incorrect results or invalid-address errors.\n",
      "\n",
      "You may not need to update to CUDA 11.1; cherry-picking the ptxas binary is often sufficient.\n",
      "2022-09-06 19:25:09.541127: W tensorflow/stream_executor/gpu/asm_compiler.cc:230] Falling back to the CUDA driver for PTX compilation; ptxas does not support CC 8.6\n",
      "2022-09-06 19:25:09.541143: W tensorflow/stream_executor/gpu/asm_compiler.cc:233] Used ptxas at ptxas\n",
      "2022-09-06 19:25:09.541192: W tensorflow/stream_executor/gpu/redzone_allocator.cc:314] UNIMPLEMENTED: ptxas ptxas too old. Falling back to the driver to compile.\n",
      "Relying on driver to perform ptx compilation. \n",
      "Modify $PATH to customize ptxas location.\n",
      "This message will be only logged once.\n",
      "2022-09-06 19:25:09.699097: I tensorflow/stream_executor/cuda/cuda_blas.cc:1786] TensorFloat-32 will be used for the matrix multiplication. This will only be logged once.\n"
     ]
    },
    {
     "name": "stdout",
     "output_type": "stream",
     "text": [
      "122/123 [============================>.] - ETA: 0s - loss: 2.4638 - accuracy: 0.1703\n",
      "Epoch 1: val_loss improved from inf to 2.14721, saving model to action-model.h5\n",
      "123/123 [==============================] - 9s 42ms/step - loss: 2.4586 - accuracy: 0.1709 - val_loss: 2.1472 - val_accuracy: 0.3074 - lr: 0.0010\n",
      "\n",
      "Epoch 2: LearningRateScheduler setting learning rate to 0.0010000000474974513.\n",
      "Epoch 2/1250\n",
      "122/123 [============================>.] - ETA: 0s - loss: 1.8966 - accuracy: 0.2879\n",
      "Epoch 2: val_loss improved from 2.14721 to 1.87356, saving model to action-model.h5\n",
      "123/123 [==============================] - 5s 37ms/step - loss: 1.8938 - accuracy: 0.2886 - val_loss: 1.8736 - val_accuracy: 0.3320 - lr: 0.0010\n",
      "\n",
      "Epoch 3: LearningRateScheduler setting learning rate to 0.0010000000474974513.\n",
      "Epoch 3/1250\n",
      "122/123 [============================>.] - ETA: 0s - loss: 1.5099 - accuracy: 0.4283\n",
      "Epoch 3: val_loss improved from 1.87356 to 1.72417, saving model to action-model.h5\n",
      "123/123 [==============================] - 5s 37ms/step - loss: 1.5142 - accuracy: 0.4268 - val_loss: 1.7242 - val_accuracy: 0.3402 - lr: 0.0010\n",
      "\n",
      "Epoch 4: LearningRateScheduler setting learning rate to 0.0010000000474974513.\n",
      "Epoch 4/1250\n",
      "122/123 [============================>.] - ETA: 0s - loss: 1.4088 - accuracy: 0.4561\n",
      "Epoch 4: val_loss improved from 1.72417 to 1.61818, saving model to action-model.h5\n",
      "123/123 [==============================] - 5s 38ms/step - loss: 1.4075 - accuracy: 0.4575 - val_loss: 1.6182 - val_accuracy: 0.3811 - lr: 0.0010\n",
      "\n",
      "Epoch 5: LearningRateScheduler setting learning rate to 0.0010000000474974513.\n",
      "Epoch 5/1250\n",
      "122/123 [============================>.] - ETA: 0s - loss: 1.2637 - accuracy: 0.5005\n",
      "Epoch 5: val_loss did not improve from 1.61818\n",
      "123/123 [==============================] - 4s 32ms/step - loss: 1.2613 - accuracy: 0.5005 - val_loss: 1.6792 - val_accuracy: 0.3566 - lr: 0.0010\n",
      "\n",
      "Epoch 6: LearningRateScheduler setting learning rate to 0.0010000000474974513.\n",
      "Epoch 6/1250\n",
      "122/123 [============================>.] - ETA: 0s - loss: 1.1885 - accuracy: 0.5449\n",
      "Epoch 6: val_loss did not improve from 1.61818\n",
      "123/123 [==============================] - 4s 32ms/step - loss: 1.1894 - accuracy: 0.5425 - val_loss: 1.6527 - val_accuracy: 0.3648 - lr: 0.0010\n",
      "\n",
      "Epoch 7: LearningRateScheduler setting learning rate to 0.0010000000474974513.\n",
      "Epoch 7/1250\n",
      "122/123 [============================>.] - ETA: 0s - loss: 1.1274 - accuracy: 0.5593\n",
      "Epoch 7: val_loss improved from 1.61818 to 1.57283, saving model to action-model.h5\n",
      "123/123 [==============================] - 9s 73ms/step - loss: 1.1281 - accuracy: 0.5578 - val_loss: 1.5728 - val_accuracy: 0.4180 - lr: 0.0010\n",
      "\n",
      "Epoch 8: LearningRateScheduler setting learning rate to 0.0010000000474974513.\n",
      "Epoch 8/1250\n",
      "122/123 [============================>.] - ETA: 0s - loss: 1.0503 - accuracy: 0.5996\n",
      "Epoch 8: val_loss did not improve from 1.57283\n",
      "123/123 [==============================] - 4s 32ms/step - loss: 1.0478 - accuracy: 0.5998 - val_loss: 1.7398 - val_accuracy: 0.3893 - lr: 0.0010\n",
      "\n",
      "Epoch 9: LearningRateScheduler setting learning rate to 0.0010000000474974513.\n",
      "Epoch 9/1250\n",
      "122/123 [============================>.] - ETA: 0s - loss: 0.9892 - accuracy: 0.6326\n",
      "Epoch 9: val_loss did not improve from 1.57283\n",
      "123/123 [==============================] - 4s 32ms/step - loss: 0.9855 - accuracy: 0.6336 - val_loss: 1.6599 - val_accuracy: 0.3893 - lr: 0.0010\n",
      "\n",
      "Epoch 10: LearningRateScheduler setting learning rate to 0.0010000000474974513.\n",
      "Epoch 10/1250\n",
      "122/123 [============================>.] - ETA: 0s - loss: 0.9099 - accuracy: 0.6471\n",
      "Epoch 10: val_loss did not improve from 1.57283\n",
      "123/123 [==============================] - 4s 32ms/step - loss: 0.9078 - accuracy: 0.6489 - val_loss: 1.7046 - val_accuracy: 0.3934 - lr: 0.0010\n",
      "\n",
      "Epoch 11: LearningRateScheduler setting learning rate to 0.00010000000474974513.\n",
      "Epoch 11/1250\n",
      "122/123 [============================>.] - ETA: 0s - loss: 0.7555 - accuracy: 0.7255\n",
      "Epoch 11: val_loss did not improve from 1.57283\n",
      "123/123 [==============================] - 4s 32ms/step - loss: 0.7515 - accuracy: 0.7277 - val_loss: 1.6541 - val_accuracy: 0.4344 - lr: 1.0000e-04\n",
      "\n",
      "Epoch 12: LearningRateScheduler setting learning rate to 0.00010000000474974513.\n",
      "Epoch 12/1250\n",
      "122/123 [============================>.] - ETA: 0s - loss: 0.6889 - accuracy: 0.7564\n",
      "Epoch 12: val_loss did not improve from 1.57283\n",
      "123/123 [==============================] - 4s 32ms/step - loss: 0.6890 - accuracy: 0.7554 - val_loss: 1.6785 - val_accuracy: 0.4303 - lr: 1.0000e-04\n",
      "\n",
      "Epoch 13: LearningRateScheduler setting learning rate to 0.00010000000474974513.\n",
      "Epoch 13/1250\n",
      "122/123 [============================>.] - ETA: 0s - loss: 0.6656 - accuracy: 0.7668\n",
      "Epoch 13: val_loss did not improve from 1.57283\n",
      "123/123 [==============================] - 4s 32ms/step - loss: 0.6647 - accuracy: 0.7666 - val_loss: 1.7254 - val_accuracy: 0.4549 - lr: 1.0000e-04\n",
      "\n",
      "Epoch 14: LearningRateScheduler setting learning rate to 0.00010000000474974513.\n",
      "Epoch 14/1250\n",
      "122/123 [============================>.] - ETA: 0s - loss: 0.6517 - accuracy: 0.7792\n",
      "Epoch 14: val_loss did not improve from 1.57283\n",
      "123/123 [==============================] - 4s 32ms/step - loss: 0.6524 - accuracy: 0.7769 - val_loss: 1.7297 - val_accuracy: 0.4754 - lr: 1.0000e-04\n",
      "\n",
      "Epoch 15: LearningRateScheduler setting learning rate to 0.00010000000474974513.\n",
      "Epoch 15/1250\n",
      "122/123 [============================>.] - ETA: 0s - loss: 0.6268 - accuracy: 0.7781\n",
      "Epoch 15: val_loss did not improve from 1.57283\n",
      "123/123 [==============================] - 4s 32ms/step - loss: 0.6256 - accuracy: 0.7799 - val_loss: 1.7646 - val_accuracy: 0.4713 - lr: 1.0000e-04\n",
      "\n",
      "Epoch 16: LearningRateScheduler setting learning rate to 0.00010000000474974513.\n",
      "Epoch 16/1250\n",
      "122/123 [============================>.] - ETA: 0s - loss: 0.6161 - accuracy: 0.7895\n",
      "Epoch 16: val_loss did not improve from 1.57283\n",
      "123/123 [==============================] - 4s 33ms/step - loss: 0.6150 - accuracy: 0.7902 - val_loss: 1.7713 - val_accuracy: 0.4754 - lr: 1.0000e-04\n",
      "\n",
      "Epoch 17: LearningRateScheduler setting learning rate to 0.00010000000474974513.\n",
      "Epoch 17/1250\n",
      "122/123 [============================>.] - ETA: 0s - loss: 0.6037 - accuracy: 0.7905Restoring model weights from the end of the best epoch: 7.\n",
      "\n",
      "Epoch 17: val_loss did not improve from 1.57283\n",
      "123/123 [==============================] - 4s 33ms/step - loss: 0.6048 - accuracy: 0.7902 - val_loss: 1.7669 - val_accuracy: 0.4713 - lr: 1.0000e-04\n",
      "Epoch 17: early stopping\n"
     ]
    }
   ],
   "source": [
    "epochs = 1250\n",
    "\n",
    "def fitting():\n",
    "    history = model.fit(\n",
    "        train_ds,\n",
    "        validation_data = val_ds,\n",
    "        epochs = epochs,\n",
    "        callbacks = callback    \n",
    "    )\n",
    "    return(history)\n",
    "\n",
    "history = fitting()"
   ]
  },
  {
   "cell_type": "code",
   "execution_count": 20,
   "id": "49f6be1b",
   "metadata": {},
   "outputs": [
    {
     "data": {
      "image/png": "[encoded data removed]",
      "text/plain": [
       "<Figure size 576x576 with 2 Axes>"
      ]
     },
     "metadata": {
      "needs_background": "light"
     },
     "output_type": "display_data"
    }
   ],
   "source": [
    "acc = history.history['accuracy']\n",
    "val_acc = history.history['val_accuracy']\n",
    "\n",
    "loss = history.history['loss']\n",
    "val_loss = history.history['val_loss']\n",
    "\n",
    "epochs_range = range(len(history.epoch))\n",
    "\n",
    "plt.figure(figsize = (8, 8))\n",
    "plt.subplot(1, 2, 1)\n",
    "plt.plot(epochs_range, acc, label = 'Training Accuracy')\n",
    "plt.plot(epochs_range, val_acc, label = 'Validation Accuracy')\n",
    "plt.legend(loc='lower right')\n",
    "plt.title('Training and Validation Accuracy')\n",
    "\n",
    "plt.subplot(1, 2, 2)\n",
    "plt.plot(epochs_range, loss, label = 'Training Loss')\n",
    "plt.plot(epochs_range, val_loss, label = 'Validation Loss')\n",
    "plt.legend(loc = 'upper right')\n",
    "plt.title('Training and Validation Loss')\n",
    "plt.show()"
   ]
  },
  {
   "cell_type": "code",
   "execution_count": 21,
   "id": "10dfbeb9",
   "metadata": {},
   "outputs": [],
   "source": [
    "from keras.models import load_model\n",
    "\n",
    "model = load_model('action-model.h5')\n",
    "\n",
    "opt = keras.optimizers.Adam(learning_rate = 0.001)\n",
    "\n",
    "model.compile(\n",
    "    optimizer = opt,\n",
    "    loss = tf.keras.losses.SparseCategoricalCrossentropy(from_logits = True),\n",
    "    metrics = ['accuracy'],    \n",
    ")"
   ]
  },
  {
   "cell_type": "code",
   "execution_count": 22,
   "id": "3aabb452",
   "metadata": {},
   "outputs": [
    {
     "data": {
      "text/html": [
       "<div>\n",
       "<style scoped>\n",
       "    .dataframe tbody tr th:only-of-type {\n",
       "        vertical-align: middle;\n",
       "    }\n",
       "\n",
       "    .dataframe tbody tr th {\n",
       "        vertical-align: top;\n",
       "    }\n",
       "\n",
       "    .dataframe thead th {\n",
       "        text-align: right;\n",
       "    }\n",
       "</style>\n",
       "<table border=\"1\" class=\"dataframe\">\n",
       "  <thead>\n",
       "    <tr style=\"text-align: right;\">\n",
       "      <th></th>\n",
       "      <th>id</th>\n",
       "      <th>date</th>\n",
       "      <th>datex</th>\n",
       "      <th>image</th>\n",
       "    </tr>\n",
       "  </thead>\n",
       "  <tbody>\n",
       "    <tr>\n",
       "      <th>0</th>\n",
       "      <td>135</td>\n",
       "      <td>2022-05-22 11:51:06</td>\n",
       "      <td>05-22-2022 11:51:06</td>\n",
       "      <td>05-22-2022_11_51_06.png</td>\n",
       "    </tr>\n",
       "    <tr>\n",
       "      <th>1</th>\n",
       "      <td>136</td>\n",
       "      <td>2022-05-22 11:51:25</td>\n",
       "      <td>05-22-2022 11:51:25</td>\n",
       "      <td>05-22-2022_11_51_25.png</td>\n",
       "    </tr>\n",
       "    <tr>\n",
       "      <th>2</th>\n",
       "      <td>137</td>\n",
       "      <td>2022-05-22 12:04:27</td>\n",
       "      <td>05-22-2022 12:04:27</td>\n",
       "      <td>05-22-2022_12_04_27.png</td>\n",
       "    </tr>\n",
       "    <tr>\n",
       "      <th>3</th>\n",
       "      <td>138</td>\n",
       "      <td>2022-05-22 12:07:56</td>\n",
       "      <td>05-22-2022 12:07:56</td>\n",
       "      <td>05-22-2022_12_07_56.png</td>\n",
       "    </tr>\n",
       "    <tr>\n",
       "      <th>4</th>\n",
       "      <td>139</td>\n",
       "      <td>2022-05-22 12:08:10</td>\n",
       "      <td>05-22-2022 12:08:10</td>\n",
       "      <td>05-22-2022_12_08_10.png</td>\n",
       "    </tr>\n",
       "    <tr>\n",
       "      <th>...</th>\n",
       "      <td>...</td>\n",
       "      <td>...</td>\n",
       "      <td>...</td>\n",
       "      <td>...</td>\n",
       "    </tr>\n",
       "    <tr>\n",
       "      <th>1116</th>\n",
       "      <td>1251</td>\n",
       "      <td>2022-05-24 07:57:00</td>\n",
       "      <td>05-24-2022 07:57:00</td>\n",
       "      <td>05-24-2022_07_57_00.png</td>\n",
       "    </tr>\n",
       "    <tr>\n",
       "      <th>1117</th>\n",
       "      <td>1252</td>\n",
       "      <td>2022-05-24 07:57:32</td>\n",
       "      <td>05-24-2022 07:57:32</td>\n",
       "      <td>05-24-2022_07_57_32.png</td>\n",
       "    </tr>\n",
       "    <tr>\n",
       "      <th>1118</th>\n",
       "      <td>1253</td>\n",
       "      <td>2022-05-24 07:57:34</td>\n",
       "      <td>05-24-2022 07:57:34</td>\n",
       "      <td>05-24-2022_07_57_34.png</td>\n",
       "    </tr>\n",
       "    <tr>\n",
       "      <th>1119</th>\n",
       "      <td>1254</td>\n",
       "      <td>2022-05-24 07:57:39</td>\n",
       "      <td>05-24-2022 07:57:39</td>\n",
       "      <td>05-24-2022_07_57_39.png</td>\n",
       "    </tr>\n",
       "    <tr>\n",
       "      <th>1120</th>\n",
       "      <td>1255</td>\n",
       "      <td>2022-05-24 07:57:41</td>\n",
       "      <td>05-24-2022 07:57:41</td>\n",
       "      <td>05-24-2022_07_57_41.png</td>\n",
       "    </tr>\n",
       "  </tbody>\n",
       "</table>\n",
       "<p>1121 rows × 4 columns</p>\n",
       "</div>"
      ],
      "text/plain": [
       "        id                 date                datex                    image\n",
       "0      135  2022-05-22 11:51:06  05-22-2022 11:51:06  05-22-2022_11_51_06.png\n",
       "1      136  2022-05-22 11:51:25  05-22-2022 11:51:25  05-22-2022_11_51_25.png\n",
       "2      137  2022-05-22 12:04:27  05-22-2022 12:04:27  05-22-2022_12_04_27.png\n",
       "3      138  2022-05-22 12:07:56  05-22-2022 12:07:56  05-22-2022_12_07_56.png\n",
       "4      139  2022-05-22 12:08:10  05-22-2022 12:08:10  05-22-2022_12_08_10.png\n",
       "...    ...                  ...                  ...                      ...\n",
       "1116  1251  2022-05-24 07:57:00  05-24-2022 07:57:00  05-24-2022_07_57_00.png\n",
       "1117  1252  2022-05-24 07:57:32  05-24-2022 07:57:32  05-24-2022_07_57_32.png\n",
       "1118  1253  2022-05-24 07:57:34  05-24-2022 07:57:34  05-24-2022_07_57_34.png\n",
       "1119  1254  2022-05-24 07:57:39  05-24-2022 07:57:39  05-24-2022_07_57_39.png\n",
       "1120  1255  2022-05-24 07:57:41  05-24-2022 07:57:41  05-24-2022_07_57_41.png\n",
       "\n",
       "[1121 rows x 4 columns]"
      ]
     },
     "execution_count": 22,
     "metadata": {},
     "output_type": "execute_result"
    }
   ],
   "source": [
    "dtest = pd.read_csv('test_image.csv')\n",
    "dtest"
   ]
  },
  {
   "cell_type": "code",
   "execution_count": 23,
   "id": "886d2388",
   "metadata": {},
   "outputs": [
    {
     "name": "stderr",
     "output_type": "stream",
     "text": [
      "100%|███████████████████████████████████████████| 1121/1121 [00:51<00:00, 21.56it/s]\n"
     ]
    }
   ],
   "source": [
    "from tensorflow.keras.preprocessing import image\n",
    "\n",
    "\n",
    "dtest['employee'] = 0\n",
    "dtest[target] = 0\n",
    "\n",
    "for i in tqdm.tqdm(dtest.index):\n",
    "    img = dtest.loc[i, 'image']\n",
    "    if img == img:\n",
    "        img = './test_image/' + img\n",
    "        img = image.load_img(\n",
    "            img, \n",
    "            target_size = (img_width, img_height)\n",
    "        )\n",
    "        x = image.img_to_array(img)\n",
    "        x = np.expand_dims(x, axis = 0)\n",
    "\n",
    "        images = np.vstack([x])\n",
    "        pred = model.predict(images, batch_size = 1, verbose = False)\n",
    "        out = tf.nn.softmax(pred)        \n",
    "        \n",
    "        dtest.loc[i, target] = np.argmax(out)"
   ]
  },
  {
   "cell_type": "code",
   "execution_count": null,
   "id": "8bb6c399",
   "metadata": {},
   "outputs": [],
   "source": []
  },
  {
   "cell_type": "code",
   "execution_count": 24,
   "id": "4f747110",
   "metadata": {},
   "outputs": [
    {
     "data": {
      "text/html": [
       "<div>\n",
       "<style scoped>\n",
       "    .dataframe tbody tr th:only-of-type {\n",
       "        vertical-align: middle;\n",
       "    }\n",
       "\n",
       "    .dataframe tbody tr th {\n",
       "        vertical-align: top;\n",
       "    }\n",
       "\n",
       "    .dataframe thead th {\n",
       "        text-align: right;\n",
       "    }\n",
       "</style>\n",
       "<table border=\"1\" class=\"dataframe\">\n",
       "  <thead>\n",
       "    <tr style=\"text-align: right;\">\n",
       "      <th></th>\n",
       "      <th>id</th>\n",
       "      <th>employee</th>\n",
       "      <th>action</th>\n",
       "    </tr>\n",
       "  </thead>\n",
       "  <tbody>\n",
       "    <tr>\n",
       "      <th>0</th>\n",
       "      <td>135</td>\n",
       "      <td>0</td>\n",
       "      <td>14</td>\n",
       "    </tr>\n",
       "    <tr>\n",
       "      <th>1</th>\n",
       "      <td>136</td>\n",
       "      <td>0</td>\n",
       "      <td>5</td>\n",
       "    </tr>\n",
       "    <tr>\n",
       "      <th>2</th>\n",
       "      <td>137</td>\n",
       "      <td>0</td>\n",
       "      <td>13</td>\n",
       "    </tr>\n",
       "    <tr>\n",
       "      <th>3</th>\n",
       "      <td>138</td>\n",
       "      <td>0</td>\n",
       "      <td>4</td>\n",
       "    </tr>\n",
       "    <tr>\n",
       "      <th>4</th>\n",
       "      <td>139</td>\n",
       "      <td>0</td>\n",
       "      <td>13</td>\n",
       "    </tr>\n",
       "  </tbody>\n",
       "</table>\n",
       "</div>"
      ],
      "text/plain": [
       "    id  employee  action\n",
       "0  135         0      14\n",
       "1  136         0       5\n",
       "2  137         0      13\n",
       "3  138         0       4\n",
       "4  139         0      13"
      ]
     },
     "execution_count": 24,
     "metadata": {},
     "output_type": "execute_result"
    }
   ],
   "source": [
    "dtest[target] = le.inverse_transform(dtest[target].values)\n",
    "\n",
    "dtest['id'] = dtest['id'].astype(int)\n",
    "dtest[target] = dtest[target].astype(int)\n",
    "dtest['action'] = dtest['action'].astype(int)\n",
    "\n",
    "dtest[['id', 'employee', target]].to_csv('action.csv', index = False)\n",
    "\n",
    "dtest[['id', 'employee', target]].head()"
   ]
  },
  {
   "cell_type": "code",
   "execution_count": 25,
   "id": "62207fc9",
   "metadata": {},
   "outputs": [
    {
     "data": {
      "text/html": [
       "<div>\n",
       "<style scoped>\n",
       "    .dataframe tbody tr th:only-of-type {\n",
       "        vertical-align: middle;\n",
       "    }\n",
       "\n",
       "    .dataframe tbody tr th {\n",
       "        vertical-align: top;\n",
       "    }\n",
       "\n",
       "    .dataframe thead th {\n",
       "        text-align: right;\n",
       "    }\n",
       "</style>\n",
       "<table border=\"1\" class=\"dataframe\">\n",
       "  <thead>\n",
       "    <tr style=\"text-align: right;\">\n",
       "      <th></th>\n",
       "      <th>id</th>\n",
       "      <th>employee</th>\n",
       "      <th>action</th>\n",
       "    </tr>\n",
       "  </thead>\n",
       "  <tbody>\n",
       "    <tr>\n",
       "      <th>0</th>\n",
       "      <td>135</td>\n",
       "      <td>11</td>\n",
       "      <td>0</td>\n",
       "    </tr>\n",
       "    <tr>\n",
       "      <th>1</th>\n",
       "      <td>136</td>\n",
       "      <td>11</td>\n",
       "      <td>0</td>\n",
       "    </tr>\n",
       "    <tr>\n",
       "      <th>2</th>\n",
       "      <td>137</td>\n",
       "      <td>11</td>\n",
       "      <td>0</td>\n",
       "    </tr>\n",
       "    <tr>\n",
       "      <th>3</th>\n",
       "      <td>138</td>\n",
       "      <td>11</td>\n",
       "      <td>0</td>\n",
       "    </tr>\n",
       "    <tr>\n",
       "      <th>4</th>\n",
       "      <td>139</td>\n",
       "      <td>11</td>\n",
       "      <td>0</td>\n",
       "    </tr>\n",
       "  </tbody>\n",
       "</table>\n",
       "</div>"
      ],
      "text/plain": [
       "    id  employee  action\n",
       "0  135        11       0\n",
       "1  136        11       0\n",
       "2  137        11       0\n",
       "3  138        11       0\n",
       "4  139        11       0"
      ]
     },
     "execution_count": 25,
     "metadata": {},
     "output_type": "execute_result"
    }
   ],
   "source": [
    "st1 = pd.read_csv('employee.csv')\n",
    "st1.head()"
   ]
  },
  {
   "cell_type": "code",
   "execution_count": 26,
   "id": "8b782a4e",
   "metadata": {},
   "outputs": [
    {
     "data": {
      "text/html": [
       "<div>\n",
       "<style scoped>\n",
       "    .dataframe tbody tr th:only-of-type {\n",
       "        vertical-align: middle;\n",
       "    }\n",
       "\n",
       "    .dataframe tbody tr th {\n",
       "        vertical-align: top;\n",
       "    }\n",
       "\n",
       "    .dataframe thead th {\n",
       "        text-align: right;\n",
       "    }\n",
       "</style>\n",
       "<table border=\"1\" class=\"dataframe\">\n",
       "  <thead>\n",
       "    <tr style=\"text-align: right;\">\n",
       "      <th></th>\n",
       "      <th>id</th>\n",
       "      <th>employee</th>\n",
       "      <th>action</th>\n",
       "    </tr>\n",
       "  </thead>\n",
       "  <tbody>\n",
       "    <tr>\n",
       "      <th>0</th>\n",
       "      <td>135</td>\n",
       "      <td>11</td>\n",
       "      <td>14</td>\n",
       "    </tr>\n",
       "    <tr>\n",
       "      <th>1</th>\n",
       "      <td>136</td>\n",
       "      <td>11</td>\n",
       "      <td>5</td>\n",
       "    </tr>\n",
       "    <tr>\n",
       "      <th>2</th>\n",
       "      <td>137</td>\n",
       "      <td>11</td>\n",
       "      <td>13</td>\n",
       "    </tr>\n",
       "    <tr>\n",
       "      <th>3</th>\n",
       "      <td>138</td>\n",
       "      <td>11</td>\n",
       "      <td>4</td>\n",
       "    </tr>\n",
       "    <tr>\n",
       "      <th>4</th>\n",
       "      <td>139</td>\n",
       "      <td>11</td>\n",
       "      <td>13</td>\n",
       "    </tr>\n",
       "  </tbody>\n",
       "</table>\n",
       "</div>"
      ],
      "text/plain": [
       "    id  employee  action\n",
       "0  135        11      14\n",
       "1  136        11       5\n",
       "2  137        11      13\n",
       "3  138        11       4\n",
       "4  139        11      13"
      ]
     },
     "execution_count": 26,
     "metadata": {},
     "output_type": "execute_result"
    }
   ],
   "source": [
    "st1['action'] = dtest[target].values\n",
    "st1.head()"
   ]
  },
  {
   "cell_type": "code",
   "execution_count": 27,
   "id": "f0401f04",
   "metadata": {},
   "outputs": [],
   "source": [
    "st1['id']       = st1['id'].astype(int)\n",
    "st1['employee'] = st1['employee'].astype(int)\n",
    "st1['action']   = st1['action'].astype(int)\n",
    "\n",
    "st1.to_csv('full.csv', index = False)"
   ]
  },
  {
   "cell_type": "code",
   "execution_count": 28,
   "id": "70f43e50",
   "metadata": {},
   "outputs": [
    {
     "data": {
      "text/html": [
       "<div>\n",
       "<style scoped>\n",
       "    .dataframe tbody tr th:only-of-type {\n",
       "        vertical-align: middle;\n",
       "    }\n",
       "\n",
       "    .dataframe tbody tr th {\n",
       "        vertical-align: top;\n",
       "    }\n",
       "\n",
       "    .dataframe thead th {\n",
       "        text-align: right;\n",
       "    }\n",
       "</style>\n",
       "<table border=\"1\" class=\"dataframe\">\n",
       "  <thead>\n",
       "    <tr style=\"text-align: right;\">\n",
       "      <th></th>\n",
       "      <th>id</th>\n",
       "      <th>employee</th>\n",
       "      <th>action</th>\n",
       "    </tr>\n",
       "  </thead>\n",
       "  <tbody>\n",
       "    <tr>\n",
       "      <th>0</th>\n",
       "      <td>135</td>\n",
       "      <td>11</td>\n",
       "      <td>14</td>\n",
       "    </tr>\n",
       "    <tr>\n",
       "      <th>1</th>\n",
       "      <td>136</td>\n",
       "      <td>11</td>\n",
       "      <td>5</td>\n",
       "    </tr>\n",
       "    <tr>\n",
       "      <th>2</th>\n",
       "      <td>137</td>\n",
       "      <td>11</td>\n",
       "      <td>13</td>\n",
       "    </tr>\n",
       "    <tr>\n",
       "      <th>3</th>\n",
       "      <td>138</td>\n",
       "      <td>11</td>\n",
       "      <td>4</td>\n",
       "    </tr>\n",
       "    <tr>\n",
       "      <th>4</th>\n",
       "      <td>139</td>\n",
       "      <td>11</td>\n",
       "      <td>13</td>\n",
       "    </tr>\n",
       "    <tr>\n",
       "      <th>...</th>\n",
       "      <td>...</td>\n",
       "      <td>...</td>\n",
       "      <td>...</td>\n",
       "    </tr>\n",
       "    <tr>\n",
       "      <th>1116</th>\n",
       "      <td>1251</td>\n",
       "      <td>7</td>\n",
       "      <td>13</td>\n",
       "    </tr>\n",
       "    <tr>\n",
       "      <th>1117</th>\n",
       "      <td>1252</td>\n",
       "      <td>7</td>\n",
       "      <td>5</td>\n",
       "    </tr>\n",
       "    <tr>\n",
       "      <th>1118</th>\n",
       "      <td>1253</td>\n",
       "      <td>7</td>\n",
       "      <td>5</td>\n",
       "    </tr>\n",
       "    <tr>\n",
       "      <th>1119</th>\n",
       "      <td>1254</td>\n",
       "      <td>7</td>\n",
       "      <td>13</td>\n",
       "    </tr>\n",
       "    <tr>\n",
       "      <th>1120</th>\n",
       "      <td>1255</td>\n",
       "      <td>7</td>\n",
       "      <td>13</td>\n",
       "    </tr>\n",
       "  </tbody>\n",
       "</table>\n",
       "<p>1121 rows × 3 columns</p>\n",
       "</div>"
      ],
      "text/plain": [
       "        id  employee  action\n",
       "0      135        11      14\n",
       "1      136        11       5\n",
       "2      137        11      13\n",
       "3      138        11       4\n",
       "4      139        11      13\n",
       "...    ...       ...     ...\n",
       "1116  1251         7      13\n",
       "1117  1252         7       5\n",
       "1118  1253         7       5\n",
       "1119  1254         7      13\n",
       "1120  1255         7      13\n",
       "\n",
       "[1121 rows x 3 columns]"
      ]
     },
     "execution_count": 28,
     "metadata": {},
     "output_type": "execute_result"
    }
   ],
   "source": [
    "st1"
   ]
  },
  {
   "cell_type": "code",
   "execution_count": null,
   "id": "cbaaa4b9",
   "metadata": {},
   "outputs": [],
   "source": []
  },
  {
   "cell_type": "code",
   "execution_count": null,
   "id": "04427ac9",
   "metadata": {},
   "outputs": [],
   "source": []
  },
  {
   "cell_type": "markdown",
   "id": "87828b13",
   "metadata": {},
   "source": [
    "https://lk.hacks-ai.ru/758261/champ"
   ]
  }
 ],
 "metadata": {
  "kernelspec": {
   "display_name": "Python 3 (ipykernel)",
   "language": "python",
   "name": "python3"
  },
  "language_info": {
   "codemirror_mode": {
    "name": "ipython",
    "version": 3
   },
   "file_extension": ".py",
   "mimetype": "text/x-python",
   "name": "python",
   "nbconvert_exporter": "python",
   "pygments_lexer": "ipython3",
   "version": "3.9.12"
  }
 },
 "nbformat": 4,
 "nbformat_minor": 5
}
